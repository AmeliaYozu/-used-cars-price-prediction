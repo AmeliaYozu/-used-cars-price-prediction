{
 "cells": [
  {
   "cell_type": "code",
   "execution_count": 16,
   "metadata": {},
   "outputs": [],
   "source": [
    "import pandas as pd\n",
    "import numpy as np\n",
    "from sklearn.ensemble import RandomForestRegressor\n",
    "from sklearn.model_selection import train_test_split, RandomizedSearchCV\n",
    "from sklearn.metrics import mean_absolute_error\n",
    "from sklearn.impute import SimpleImputer\n",
    "\n",
    "#preprocess data\n",
    "data = pd.read_csv(\"used_car_train_20200313_revised.csv\", index_col='SaleID')\n",
    "\n",
    "y = data['price']\n",
    "X = data.drop('price',axis=1) #dropped about 15000 rows with missing values\n",
    "\n",
    "def preprocess(X_train):# handling missing values: transform 'notRepairedDamage column from 0, -, 1 to 0,1,2\n",
    "    new_col = X_train.notRepairedDamage.map(lambda x: 1 if x == '-' else int(float(x))*2)\n",
    "    X_train = X_train.drop('notRepairedDamage',axis=1)\n",
    "    X_train = X_train.join(new_col)   \n",
    "    return X_train\n",
    "\n",
    "imputer = SimpleImputer()\n",
    "(X_train, X_valid, y_train, y_valid) = train_test_split(X, y, test_size=0.1)\n",
    "X_train = preprocess(X_train)\n",
    "X_valid = preprocess(X_valid)\n",
    "cols = X_train.columns\n",
    "\n",
    "X_train = pd.DataFrame(imputer.fit_transform(X_train))\n",
    "X_valid = pd.DataFrame(imputer.transform(X_valid))\n",
    "X_train.columns = cols\n",
    "X_valid.columns = cols\n",
    "selected_cols=['v_12','v_10','regDate','kilometer','v_0','v_14','power','v_8','v_1','v_5','v_3','v_11',\n",
    "                   'v_9','v_6','v_4','notRepairedDamage','model','v_2','v_13','name','brand','v_7','fuelType']\n",
    "X_train = X_train[selected_cols]\n",
    "X_valid = X_valid[selected_cols]"
   ]
  },
  {
   "cell_type": "code",
   "execution_count": 17,
   "metadata": {},
   "outputs": [
    {
     "name": "stdout",
     "output_type": "stream",
     "text": [
      "{'bootstrap': [True, False],\n",
      " 'max_depth': [10, 20, 30, 40, 50, 60, 70, 80, 90, 100, 110, None],\n",
      " 'max_features': ['auto', 'sqrt'],\n",
      " 'max_leaf_nodes': [100, 200, 300, 400, 500, 600, 700, 800, 900, 1000, None],\n",
      " 'min_impurity_decrease': [0.0,\n",
      "                           0.05,\n",
      "                           0.1,\n",
      "                           0.15,\n",
      "                           0.2,\n",
      "                           0.25,\n",
      "                           0.3,\n",
      "                           0.35,\n",
      "                           0.4,\n",
      "                           0.45,\n",
      "                           0.5],\n",
      " 'n_estimators': [10, 20, 30, 40, 50, 60, 70, 80, 90, 100],\n",
      " 'warm_start': [True, False]}\n"
     ]
    }
   ],
   "source": [
    "# Tune HyperParameters\n",
    "n_estimators = [int(x) for x in np.linspace(start=10, stop=100, num=10)]\n",
    "max_features = ['auto', 'sqrt']\n",
    "max_depth = [int(x) for x in np.linspace(10,110,num=11)]\n",
    "max_depth.append(None)\n",
    "bootstrap = [True, False]\n",
    "max_leaf_nodes = [int(x) for x in np.linspace(start=100,stop=1000,num=10)]\n",
    "max_leaf_nodes.append(None)\n",
    "min_impurity_decrease = [float(x/100) for x in np.linspace(start=0, stop=50, num=11)]\n",
    "warm_start=[True, False]\n",
    "\n",
    "random_grid = {'n_estimators':n_estimators,\n",
    "              'max_features':max_features,\n",
    "              'max_depth':max_depth,\n",
    "              'bootstrap':bootstrap,\n",
    "              'max_leaf_nodes':max_leaf_nodes,\n",
    "              'min_impurity_decrease':min_impurity_decrease,\n",
    "              'warm_start':warm_start}\n",
    "\n",
    "from pprint import pprint\n",
    "\n",
    "pprint(random_grid)"
   ]
  },
  {
   "cell_type": "code",
   "execution_count": null,
   "metadata": {},
   "outputs": [
    {
     "name": "stdout",
     "output_type": "stream",
     "text": [
      "Fitting 3 folds for each of 100 candidates, totalling 300 fits\n"
     ]
    },
    {
     "name": "stderr",
     "output_type": "stream",
     "text": [
      "[Parallel(n_jobs=-1)]: Using backend LokyBackend with 4 concurrent workers.\n",
      "[Parallel(n_jobs=-1)]: Done  33 tasks      | elapsed: 14.4min\n"
     ]
    }
   ],
   "source": [
    "rf = RandomForestRegressor()\n",
    "rf_random = RandomizedSearchCV(estimator=rf,param_distributions=random_grid, n_iter=100, cv=3, verbose=2, random_state=42, n_jobs=-1)\n",
    "\n",
    "rf_random.fit(X_train, y_train)"
   ]
  },
  {
   "cell_type": "code",
   "execution_count": 23,
   "metadata": {},
   "outputs": [
    {
     "data": {
      "text/plain": [
       "{'warm_start': True,\n",
       " 'n_estimators': 50,\n",
       " 'min_impurity_decrease': 0.1,\n",
       " 'max_leaf_nodes': 700,\n",
       " 'max_features': 'sqrt',\n",
       " 'max_depth': 110,\n",
       " 'bootstrap': False}"
      ]
     },
     "execution_count": 23,
     "metadata": {},
     "output_type": "execute_result"
    }
   ],
   "source": [
    "rf_random.best_params_"
   ]
  },
  {
   "cell_type": "code",
   "execution_count": null,
   "metadata": {},
   "outputs": [],
   "source": [
    "1500:\n",
    "{'warm_start': True,\n",
    " 'n_estimators': 80,\n",
    " 'min_impurity_decrease': 0.0,\n",
    " 'max_leaf_nodes': 500,\n",
    " 'max_features': 'sqrt',\n",
    " 'max_depth': 80,\n",
    " 'bootstrap': True}\n",
    "\n",
    "4000\n",
    "{'warm_start': True,\n",
    " 'n_estimators': 90,\n",
    " 'min_impurity_decrease': 0.3,\n",
    " 'max_leaf_nodes': 900,\n",
    " 'max_features': 'sqrt',\n",
    " 'max_depth': 80,\n",
    " 'bootstrap': False}\n",
    "\n",
    "10000\n",
    "{'warm_start': True,\n",
    " 'n_estimators': 50,\n",
    " 'min_impurity_decrease': 0.1,\n",
    " 'max_leaf_nodes': 700,\n",
    " 'max_features': 'sqrt',\n",
    " 'max_depth': 110,\n",
    " 'bootstrap': False}"
   ]
  }
 ],
 "metadata": {
  "kernelspec": {
   "display_name": "Python 3",
   "language": "python",
   "name": "python3"
  },
  "language_info": {
   "codemirror_mode": {
    "name": "ipython",
    "version": 3
   },
   "file_extension": ".py",
   "mimetype": "text/x-python",
   "name": "python",
   "nbconvert_exporter": "python",
   "pygments_lexer": "ipython3",
   "version": "3.7.6"
  }
 },
 "nbformat": 4,
 "nbformat_minor": 4
}

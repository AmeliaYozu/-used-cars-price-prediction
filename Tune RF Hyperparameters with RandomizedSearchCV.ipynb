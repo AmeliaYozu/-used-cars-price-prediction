{
 "cells": [
  {
   "cell_type": "code",
   "execution_count": 4,
   "metadata": {},
   "outputs": [],
   "source": [
    "import pandas as pd\n",
    "import numpy as np\n",
    "from sklearn.ensemble import RandomForestRegressor\n",
    "from sklearn.model_selection import train_test_split, RandomizedSearchCV\n",
    "from sklearn.metrics import mean_absolute_error\n",
    "from sklearn.impute import SimpleImputer\n",
    "\n",
    "#preprocess data\n",
    "data = pd.read_csv(\"used_car_train_20200313_revised.csv\", index_col='SaleID')\n",
    "\n",
    "y = data['price']\n",
    "X = data.drop('price',axis=1) #dropped about 15000 rows with missing values\n",
    "\n",
    "def preprocess(X_train):# handling missing values: transform 'notRepairedDamage column from 0, -, 1 to 0,1,2\n",
    "    new_col = X_train.notRepairedDamage.map(lambda x: 1 if x == '-' else int(float(x))*2)\n",
    "    X_train = X_train.drop('notRepairedDamage',axis=1)\n",
    "    X_train = X_train.join(new_col)   \n",
    "    return X_train\n",
    "\n",
    "imputer = SimpleImputer()\n",
    "(X_train, X_valid, y_train, y_valid) = train_test_split(X, y, test_size=0.1)\n",
    "X_train = preprocess(X_train)\n",
    "X_valid = preprocess(X_valid)\n",
    "cols = X_train.columns\n",
    "\n",
    "X_train = pd.DataFrame(imputer.fit_transform(X_train))\n",
    "X_valid = pd.DataFrame(imputer.transform(X_valid))\n",
    "X_train.columns = cols\n",
    "X_valid.columns = cols\n",
    "selected_cols=['v_12','v_10','regDate','kilometer','v_0','v_14','power','v_8','v_1','v_5','v_3','v_11',\n",
    "                   'v_9','v_6','v_4','notRepairedDamage','model','v_2','v_13','name','brand','v_7','fuelType']\n",
    "X_train = X_train[selected_cols]\n",
    "X_valid = X_valid[selected_cols]\n",
    "\n",
    "full_X = preprocess(X)\n",
    "final_imputer = SimpleImputer()\n",
    "full_X = pd.DataFrame(final_imputer.fit_transform(full_X))\n",
    "full_X.columns = cols\n",
    "full_X = full_X[selected_cols]"
   ]
  },
  {
   "cell_type": "code",
   "execution_count": 5,
   "metadata": {},
   "outputs": [
    {
     "name": "stdout",
     "output_type": "stream",
     "text": [
      "{'bootstrap': [True, False],\n",
      " 'max_depth': [10, 20, 30, 40, 50, 60, 70, 80, 90, 100, 110, None],\n",
      " 'max_features': ['auto', 'sqrt'],\n",
      " 'max_leaf_nodes': [100, 200, 300, 400, 500, 600, 700, 800, 900, 1000, None],\n",
      " 'min_impurity_decrease': [0.0,\n",
      "                           0.05,\n",
      "                           0.1,\n",
      "                           0.15,\n",
      "                           0.2,\n",
      "                           0.25,\n",
      "                           0.3,\n",
      "                           0.35,\n",
      "                           0.4,\n",
      "                           0.45,\n",
      "                           0.5],\n",
      " 'n_estimators': [10, 20, 30, 40, 50, 60, 70, 80, 90, 100],\n",
      " 'warm_start': [True, False]}\n"
     ]
    }
   ],
   "source": [
    "# Tune HyperParameters\n",
    "n_estimators = [int(x) for x in np.linspace(start=10, stop=100, num=10)]\n",
    "max_features = ['auto', 'sqrt']\n",
    "max_depth = [int(x) for x in np.linspace(10,110,num=11)]\n",
    "max_depth.append(None)\n",
    "bootstrap = [True, False]\n",
    "max_leaf_nodes = [int(x) for x in np.linspace(start=100,stop=1000,num=10)]\n",
    "max_leaf_nodes.append(None)\n",
    "min_impurity_decrease = [float(x/100) for x in np.linspace(start=0, stop=50, num=11)]\n",
    "warm_start=[True, False]\n",
    "\n",
    "random_grid = {'n_estimators':n_estimators,\n",
    "              'max_features':max_features,\n",
    "              'max_depth':max_depth,\n",
    "              'bootstrap':bootstrap,\n",
    "              'max_leaf_nodes':max_leaf_nodes,\n",
    "              'min_impurity_decrease':min_impurity_decrease,\n",
    "              'warm_start':warm_start}\n",
    "\n",
    "from pprint import pprint\n",
    "\n",
    "pprint(random_grid)"
   ]
  },
  {
   "cell_type": "code",
   "execution_count": 6,
   "metadata": {},
   "outputs": [
    {
     "name": "stdout",
     "output_type": "stream",
     "text": [
      "Fitting 3 folds for each of 100 candidates, totalling 300 fits\n"
     ]
    },
    {
     "name": "stderr",
     "output_type": "stream",
     "text": [
      "[Parallel(n_jobs=-1)]: Using backend LokyBackend with 4 concurrent workers.\n",
      "[Parallel(n_jobs=-1)]: Done  33 tasks      | elapsed: 20.7min\n",
      "[Parallel(n_jobs=-1)]: Done 154 tasks      | elapsed: 101.7min\n",
      "[Parallel(n_jobs=-1)]: Done 300 out of 300 | elapsed: 195.4min finished\n"
     ]
    },
    {
     "data": {
      "text/plain": [
       "RandomizedSearchCV(cv=3, error_score=nan,\n",
       "                   estimator=RandomForestRegressor(bootstrap=True,\n",
       "                                                   ccp_alpha=0.0,\n",
       "                                                   criterion='mse',\n",
       "                                                   max_depth=None,\n",
       "                                                   max_features='auto',\n",
       "                                                   max_leaf_nodes=None,\n",
       "                                                   max_samples=None,\n",
       "                                                   min_impurity_decrease=0.0,\n",
       "                                                   min_impurity_split=None,\n",
       "                                                   min_samples_leaf=1,\n",
       "                                                   min_samples_split=2,\n",
       "                                                   min_weight_fraction_leaf=0.0,\n",
       "                                                   n_estimators=100,\n",
       "                                                   n_jobs=None, oob_score=Fals...\n",
       "                                                      None],\n",
       "                                        'max_features': ['auto', 'sqrt'],\n",
       "                                        'max_leaf_nodes': [100, 200, 300, 400,\n",
       "                                                           500, 600, 700, 800,\n",
       "                                                           900, 1000, None],\n",
       "                                        'min_impurity_decrease': [0.0, 0.05,\n",
       "                                                                  0.1, 0.15,\n",
       "                                                                  0.2, 0.25,\n",
       "                                                                  0.3, 0.35,\n",
       "                                                                  0.4, 0.45,\n",
       "                                                                  0.5],\n",
       "                                        'n_estimators': [10, 20, 30, 40, 50, 60,\n",
       "                                                         70, 80, 90, 100],\n",
       "                                        'warm_start': [True, False]},\n",
       "                   pre_dispatch='2*n_jobs', random_state=42, refit=True,\n",
       "                   return_train_score=False, scoring=None, verbose=2)"
      ]
     },
     "execution_count": 6,
     "metadata": {},
     "output_type": "execute_result"
    }
   ],
   "source": [
    "rf = RandomForestRegressor()\n",
    "rf_random = RandomizedSearchCV(estimator=rf,param_distributions=random_grid, n_iter=100, cv=3, verbose=2, random_state=42, n_jobs=-1)\n",
    "\n",
    "rf_random.fit(full_X, y)"
   ]
  },
  {
   "cell_type": "code",
   "execution_count": 7,
   "metadata": {},
   "outputs": [
    {
     "data": {
      "text/plain": [
       "{'warm_start': False,\n",
       " 'n_estimators': 50,\n",
       " 'min_impurity_decrease': 0.05,\n",
       " 'max_leaf_nodes': None,\n",
       " 'max_features': 'sqrt',\n",
       " 'max_depth': 30,\n",
       " 'bootstrap': False}"
      ]
     },
     "execution_count": 7,
     "metadata": {},
     "output_type": "execute_result"
    }
   ],
   "source": [
    "rf_random.best_params_"
   ]
  },
  {
   "cell_type": "code",
   "execution_count": 13,
   "metadata": {},
   "outputs": [
    {
     "data": {
      "text/plain": [
       "['rf_full_grid_FE_model.joblib']"
      ]
     },
     "execution_count": 13,
     "metadata": {},
     "output_type": "execute_result"
    }
   ],
   "source": [
    "from joblib import dump\n",
    "dump(rf_random, \"rf_full_grid_FE_model.joblib\")"
   ]
  },
  {
   "cell_type": "code",
   "execution_count": null,
   "metadata": {},
   "outputs": [],
   "source": [
    "1500:\n",
    "{'warm_start': True,\n",
    " 'n_estimators': 80,\n",
    " 'min_impurity_decrease': 0.0,\n",
    " 'max_leaf_nodes': 500,\n",
    " 'max_features': 'sqrt',\n",
    " 'max_depth': 80,\n",
    " 'bootstrap': True}\n",
    "\n",
    "4000\n",
    "{'warm_start': True,\n",
    " 'n_estimators': 90,\n",
    " 'min_impurity_decrease': 0.3,\n",
    " 'max_leaf_nodes': 900,\n",
    " 'max_features': 'sqrt',\n",
    " 'max_depth': 80,\n",
    " 'bootstrap': False}\n",
    "\n",
    "10000\n",
    "{'warm_start': True,\n",
    " 'n_estimators': 50,\n",
    " 'min_impurity_decrease': 0.1,\n",
    " 'max_leaf_nodes': 700,\n",
    " 'max_features': 'sqrt',\n",
    " 'max_depth': 110,\n",
    " 'bootstrap': False}\n",
    "\n",
    "full_X(train+valid)\n",
    "{'warm_start': False,\n",
    " 'n_estimators': 50,\n",
    " 'min_impurity_decrease': 0.05,\n",
    " 'max_leaf_nodes': None,\n",
    " 'max_features': 'sqrt',\n",
    " 'max_depth': 30,\n",
    " 'bootstrap': False}"
   ]
  },
  {
   "cell_type": "code",
   "execution_count": 12,
   "metadata": {},
   "outputs": [],
   "source": [
    "best_random = rf_random.best_estimator_\n",
    "X_test = pd.read_csv(\"used_car_testA_20200313_revised.csv\", index_col='SaleID')\n",
    "X_test = preprocess(X_test)\n",
    "X_test = pd.DataFrame(final_imputer.transform(X_test))\n",
    "X_test.columns = cols\n",
    "X_test = X_test[selected_cols]\n",
    "preds = best_random.predict(X_test)\n",
    "result = pd.DataFrame({\"SaleID\":X_test.index, \"price\":preds})\n",
    "result.to_csv(\"rf_grid_FE_submission.csv\", index=False)"
   ]
  }
 ],
 "metadata": {
  "kernelspec": {
   "display_name": "Python 3",
   "language": "python",
   "name": "python3"
  },
  "language_info": {
   "codemirror_mode": {
    "name": "ipython",
    "version": 3
   },
   "file_extension": ".py",
   "mimetype": "text/x-python",
   "name": "python",
   "nbconvert_exporter": "python",
   "pygments_lexer": "ipython3",
   "version": "3.7.6"
  }
 },
 "nbformat": 4,
 "nbformat_minor": 4
}

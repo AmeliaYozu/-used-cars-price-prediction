{
 "cells": [
  {
   "cell_type": "code",
   "execution_count": null,
   "metadata": {},
   "outputs": [],
   "source": [
    "%%time\n",
    "from sklearn.model_selection import train_test_split\n",
    "from sklearn.ensemble import RandomForestRegressor\n",
    "from sklearn.metrics import mean_absolute_error\n",
    "from sklearn.impute import SimpleImputer\n",
    "from sklearn.preprocessing import OneHotEncoder\n",
    "from sklearn.compose import ColumnTransformer\n",
    "from sklearn.pipeline import Pipeline\n",
    "\n",
    "import pandas as pd\n",
    "import numpy as np\n",
    "\n",
    "def preprocess(X_train):# transform 'notRepairedDamage column from 0, -, 1 to 0,1,2\n",
    "    new_col = X_train.notRepairedDamage.map(lambda x: 1 if x == '-' else int(float(x))*2)\n",
    "    X_train = X_train.drop('notRepairedDamage',axis=1)\n",
    "    X_train = X_train.join(new_col)   \n",
    "    return X_train\n",
    "\n",
    "def validate(model, X_train, X_valid, y_train, y_valid):\n",
    "    preds_valid = model.predict(X_valid)\n",
    "    preds_train = model.predict(X_train)\n",
    "    mae_valid = mean_absolute_error(preds_valid, y_valid)\n",
    "    mae_train = mean_absolute_error(preds_train, y_train)\n",
    "    print(\"Validation result:\")\n",
    "    print(\"train set mae on training set is {}\".format(mae_train))\n",
    "    print(\"valid set mae on validation set is {}\".format(mae_valid))\n",
    "    \n",
    "data = pd.read_csv('./data/used_car_train_20200313_revised.csv')\n",
    "data.dropna(subset=['price'], axis=0, inplace=True)\n",
    "y = data['price']\n",
    "X = data.drop('price', axis=1)\n",
    "X = preprocess(X)\n",
    "(X_train, X_valid, y_train, y_valid) = train_test_split(X, y, test_size=0.1)\n",
    "cols = X.columns\n",
    "selected_cols=['v_12','v_10','regDate','kilometer','v_0','v_14',\n",
    "               'power','v_8','v_1','v_5','v_3','v_11',\n",
    "               'v_9','v_6','v_4','notRepairedDamage','model',\n",
    "               'v_2','v_13','name','brand','v_7','fuelType']\n",
    "\n",
    "final_params = {'warm_start': False,\n",
    "                'n_estimators': 50,\n",
    "                'min_impurity_decrease': 0.05,\n",
    "                'max_leaf_nodes': None,\n",
    "                'max_features': 'sqrt',\n",
    "                'max_depth': 30,\n",
    "                'bootstrap': False}\n",
    "\n",
    "X_train = X_train[selected_cols]\n",
    "X_valid = X_valid[selected_cols]\n",
    "\n",
    "# pipeline\n",
    "# num_cols = ['gearbox', 'bodyType', 'fuelType']\n",
    "num_cols = ['fuelType']\n",
    "num_transformer = SimpleImputer()\n",
    "\n",
    "preprocessor = ColumnTransformer(\n",
    "    transformers=[('num', num_transformer, num_cols)])\n",
    "\n",
    "\n",
    "model = RandomForestRegressor(criterion='mae', random_state=42, n_jobs=-1, **final_params)\n",
    "pip = Pipeline(steps=[('preprocessor', preprocessor),\n",
    "                     ('model', model)])\n",
    "pip.fit(X_train, y_train)\n"
   ]
  },
  {
   "cell_type": "code",
   "execution_count": null,
   "metadata": {},
   "outputs": [],
   "source": [
    "validate(model, X_train, X_valid, y_train, y_valid)"
   ]
  }
 ],
 "metadata": {
  "kernelspec": {
   "display_name": "Python 3",
   "language": "python",
   "name": "python3"
  },
  "language_info": {
   "codemirror_mode": {
    "name": "ipython",
    "version": 3
   },
   "file_extension": ".py",
   "mimetype": "text/x-python",
   "name": "python",
   "nbconvert_exporter": "python",
   "pygments_lexer": "ipython3",
   "version": "3.7.6"
  }
 },
 "nbformat": 4,
 "nbformat_minor": 4
}
